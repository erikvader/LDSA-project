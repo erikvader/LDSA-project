{
 "cells": [
  {
   "cell_type": "code",
   "execution_count": null,
   "metadata": {},
   "outputs": [],
   "source": [
    "#https://github.com/raghav1810/Music-analysis-and-Year-prediction/blob/master/Evolution%20of%20Pop%20Music.ipynb"
   ]
  },
  {
   "cell_type": "code",
   "execution_count": null,
   "metadata": {},
   "outputs": [],
   "source": [
    "#https://stackoverflow.com/questions/35750614/pyspark-get-list-of-files-directories-on-hdfs-path"
   ]
  },
  {
   "cell_type": "code",
   "execution_count": 1,
   "metadata": {},
   "outputs": [],
   "source": [
    "from pyspark.sql import SparkSession\n",
    "\n",
    "spark_session = SparkSession\\\n",
    "        .builder\\\n",
    "        .master(\"spark://master:7077\") \\\n",
    "        .appName(\"whatever\")\\\n",
    "        .getOrCreate()\n",
    "        \n",
    " #.config(\"spark.executor.cores\",4)\\\n",
    "        \n",
    "spark_context = spark_session.sparkContext"
   ]
  },
  {
   "cell_type": "code",
   "execution_count": 12,
   "metadata": {},
   "outputs": [
    {
     "name": "stdout",
     "output_type": "stream",
     "text": [
      "['Casual', 'The Box Tops', 'Sonora Santanera', 'Adam Ant', 'Gob', 'Jeff And Sheri Easter', 'Rated R', 'Tweeterfriendly Music', 'Planet P Project', 'Clp']\n"
     ]
    }
   ],
   "source": [
    "def f(data):\n",
    "    import h5py\n",
    "    import io\n",
    "    with io.BytesIO(data) as b, h5py.File(b, \"r\") as f:\n",
    "        return f[\"metadata\"][\"songs\"][0][9].decode() \n",
    "\n",
    "#locs = spark_context.textFile(\"hdfs://master:9000/home/ubuntu/files.txt\")\n",
    "\n",
    "locs = spark_context.binaryFiles(\"hdfs://master:9000/home/ubuntu/MillionSongSubset/data/A/A/A\")\n",
    "print(locs.map(lambda tup: f(tup[1])).take(10))\n",
    "\n",
    "#from pprint import pprint\n",
    "#pprint(locs.map(f).map(lambda x: (x, 1)).reduceByKey(lambda a,b: a+b).takeOrdered(200, key=lambda x: -x[1]))"
   ]
  },
  {
   "cell_type": "code",
   "execution_count": 16,
   "metadata": {},
   "outputs": [],
   "source": [
    "spark_context.stop()"
   ]
  }
 ],
 "metadata": {
  "kernelspec": {
   "display_name": "Python 3",
   "language": "python",
   "name": "python3"
  },
  "language_info": {
   "codemirror_mode": {
    "name": "ipython",
    "version": 3
   },
   "file_extension": ".py",
   "mimetype": "text/x-python",
   "name": "python",
   "nbconvert_exporter": "python",
   "pygments_lexer": "ipython3",
   "version": "3.6.9"
  }
 },
 "nbformat": 4,
 "nbformat_minor": 2
}
