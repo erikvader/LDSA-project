{
 "cells": [
  {
   "cell_type": "code",
   "execution_count": null,
   "metadata": {},
   "outputs": [],
   "source": [
    "#https://github.com/raghav1810/Music-analysis-and-Year-prediction/blob/master/Evolution%20of%20Pop%20Music.ipynb"
   ]
  },
  {
   "cell_type": "code",
   "execution_count": 46,
   "metadata": {},
   "outputs": [],
   "source": [
    "from pyspark.sql import SparkSession\n",
    "\n",
    "spark_session = SparkSession\\\n",
    "        .builder\\\n",
    "        .master(\"spark://master:7077\") \\\n",
    "        .appName(\"whatever\")\\\n",
    "        .getOrCreate()\n",
    "\n",
    "spark_context = spark_session.sparkContext"
   ]
  },
  {
   "cell_type": "code",
   "execution_count": 47,
   "metadata": {},
   "outputs": [],
   "source": [
    "# collect all directories where all h5 files are\n",
    "\n",
    "from hdfs import InsecureClient\n",
    "client = InsecureClient(\"http://master:50070\", user=\"ubuntu\")\n",
    "\n",
    "paths = set()\n",
    "for path, dirs, _files in client.walk(\"/home/ubuntu\"):\n",
    "    if not dirs and not path.endswith(\"AdditionalFiles\"):\n",
    "        paths.add(path)"
   ]
  },
  {
   "cell_type": "code",
   "execution_count": 48,
   "metadata": {
    "scrolled": false
   },
   "outputs": [
    {
     "name": "stdout",
     "output_type": "stream",
     "text": [
      "it took 809.9659100319259\n"
     ]
    }
   ],
   "source": [
    "import math\n",
    "import time\n",
    "import h5py\n",
    "import io\n",
    "from statistics import mean\n",
    "\n",
    "def get_year(h5):\n",
    "    return int(h5[\"musicbrainz\"][\"songs\"][0][1])\n",
    "\n",
    "def get_danceability(h5):\n",
    "    asd = float(h5[\"metadata\"][\"songs\"][0][2])\n",
    "    if math.isnan(asd):\n",
    "        return 0.0\n",
    "    else:\n",
    "        return asd\n",
    "\n",
    "def f(tup):\n",
    "    _path, data = tup\n",
    "    with io.BytesIO(data) as b, h5py.File(b, \"r\") as f:\n",
    "        return get_year(f), get_danceability(f)\n",
    "\n",
    "before = time.perf_counter()\n",
    "h5s = spark_context.union([spark_context.binaryFiles(\"hdfs://master:9000\" + p).map(f) for p in paths])\n",
    "\n",
    "asd = h5s.filter(lambda x: x[0] != 0 and x[1] > 0)\\\n",
    "         .groupByKey()\\\n",
    "         .map(lambda x: (x[0], mean(x[1])))\\\n",
    "         .sortBy(lambda x: x[0])\\\n",
    "         .collect()\n",
    "\n",
    "print(\"it took {}\".format(time.perf_counter() - before))"
   ]
  },
  {
   "cell_type": "code",
   "execution_count": 22,
   "metadata": {
    "scrolled": true
   },
   "outputs": [
    {
     "data": {
      "image/png": "[encoded data removed]",
      "text/plain": [
       "<Figure size 432x288 with 1 Axes>"
      ]
     },
     "metadata": {},
     "output_type": "display_data"
    }
   ],
   "source": [
    "# graph is from 4 workers 16GB\n",
    "import matplotlib.pyplot as plt\n",
    "xs, ys = zip(*asd)\n",
    "plt.plot(xs, ys)\n",
    "plt.show()"
   ]
  },
  {
   "cell_type": "code",
   "execution_count": null,
   "metadata": {},
   "outputs": [],
   "source": [
    "# for debugging, ignore\n",
    "def f(tup):\n",
    "    import h5py\n",
    "    import io\n",
    "    import math\n",
    "    _path, data = tup\n",
    "    with io.BytesIO(data) as b, h5py.File(b, \"r\") as f:\n",
    "        asd = float(f[\"metadata\"][\"songs\"][0][2])\n",
    "        return asd == 0.0 or math.isnan(asd)\n",
    "\n",
    "h5s = spark_context.union([spark_context.binaryFiles(\"hdfs://master:9000\" + p).map(f) for p in paths])\n",
    "\n",
    "from pprint import pprint\n",
    "pprint(h5s.count())\n",
    "pprint(h5s.filter(lambda x: x).count())"
   ]
  },
  {
   "cell_type": "code",
   "execution_count": 48,
   "metadata": {},
   "outputs": [
    {
     "name": "stdout",
     "output_type": "stream",
     "text": [
      "'2006'\n"
     ]
    }
   ],
   "source": [
    "# for debugging, ignore\n",
    "import h5py\n",
    "from pprint import pprint\n",
    "with h5py.File(\"/home/ubuntu/hej.h5\", \"r\") as f:\n",
    "    #pprint(str(list(f)))\n",
    "    #pprint(str(list(f[\"analysis\"][\"songs\"].attrs.items())))\n",
    "    #pprint(str(f[\"analysis\"][\"songs\"][0][23]))\n",
    "    #print(str(int(f[\"analysis\"][\"songs\"][0][23]) == 0))\n",
    "    # 23 == loudness\n",
    "    # 2 == danceability\n",
    "    \n",
    "    pprint(str(f[\"musicbrainz\"][\"songs\"][0][1]))"
   ]
  },
  {
   "cell_type": "code",
   "execution_count": 45,
   "metadata": {},
   "outputs": [],
   "source": [
    "spark_context.stop()"
   ]
  }
 ],
 "metadata": {
  "kernelspec": {
   "display_name": "Python 3",
   "language": "python",
   "name": "python3"
  }
 },
 "nbformat": 4,
 "nbformat_minor": 2
}
